{
 "cells": [
  {
   "cell_type": "code",
   "execution_count": 1,
   "metadata": {
    "collapsed": true
   },
   "outputs": [],
   "source": [
    "import random\n",
    "win_conditions = {\"rock\": \"scissors\", \"scissors\": \"paper\", \"paper\": \"rock\"}\n",
    "choices = [\"rock\", \"paper\", \"scissors\"]\n",
    "\n",
    "def play(best_of):\n",
    "    best_of = best_of // 2 + 1\n",
    "    wins = {k: 0 for k in [\"player\", \"pc\"]}\n",
    "    while wins[\"player\"] < best_of and wins[\"pc\"] < best_of:\n",
    "        player_choice = input(\"Choose Rock/Paper/Scissors: \").lower()\n",
    "        if not player_choice in choices:\n",
    "            print(\"Invalid choice. Must be Rock/Paper/Scissors. Again.\")\n",
    "            continue\n",
    "        pc_choice = random.choice(choices)\n",
    "        if pc_choice == player_choice:\n",
    "            print(\"Tie!\")\n",
    "            continue\n",
    "        elif pc_choice in win_conditions[player_choice]:\n",
    "            wins[\"player\"] += 1\n",
    "            print(f\"\"\"Player wins!\\nScore:\\nPC: {wins['pc']}\\nPlayer: {wins['player']}\\n\"\"\")\n",
    "        else:\n",
    "            wins[\"pc\"] += 1\n",
    "            print(f\"\"\"PC wins!\\nScore:\\nPC: {wins['pc']}\\nPlayer: {wins['player']}\"\"\")\n",
    "\n",
    "    winner = max(wins.items(), key=lambda x: x[1])\n",
    "    print(f\"Final Result: {winner[0].capitalize()} wins!\")"
   ]
  },
  {
   "cell_type": "code",
   "execution_count": 2,
   "metadata": {
    "collapsed": false
   },
   "outputs": [
    {
     "name": "stdout",
     "output_type": "stream",
     "text": [
      "Choose Rock/Paper/Scissors: Rock\n",
      "Player wins!\n",
      "Score:\n",
      "PC: 0\n",
      "Player: 1\n",
      "\n",
      "Choose Rock/Paper/Scissors: paper\n",
      "Player wins!\n",
      "Score:\n",
      "PC: 0\n",
      "Player: 2\n",
      "\n",
      "Choose Rock/Paper/Scissors: scissors\n",
      "PC wins!\n",
      "Score:\n",
      "PC: 1\n",
      "Player: 2\n",
      "Choose Rock/Paper/Scissors: Paper\n",
      "PC wins!\n",
      "Score:\n",
      "PC: 2\n",
      "Player: 2\n",
      "Choose Rock/Paper/Scissors: Scissors\n",
      "Tie!\n",
      "Choose Rock/Paper/Scissors: Scissors\n",
      "Tie!\n",
      "Choose Rock/Paper/Scissors: Scissors\n",
      "Tie!\n",
      "Choose Rock/Paper/Scissors: Scissors\n",
      "Tie!\n",
      "Choose Rock/Paper/Scissors: Scissors\n",
      "PC wins!\n",
      "Score:\n",
      "PC: 3\n",
      "Player: 2\n",
      "Final Result: Pc wins!\n"
     ]
    }
   ],
   "source": [
    "play(5)"
   ]
  }
 ],
 "metadata": {
  "kernelspec": {
   "display_name": "Python 3",
   "language": "python",
   "name": "python3"
  },
  "language_info": {
   "codemirror_mode": {
    "name": "ipython",
    "version": 3
   },
   "file_extension": ".py",
   "mimetype": "text/x-python",
   "name": "python",
   "nbconvert_exporter": "python",
   "pygments_lexer": "ipython3",
   "version": "3.6.0"
  }
 },
 "nbformat": 4,
 "nbformat_minor": 2
}
