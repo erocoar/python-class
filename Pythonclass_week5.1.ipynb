{
 "cells": [
  {
   "cell_type": "markdown",
   "metadata": {},
   "source": [
    "# Exercises Week 5.1"
   ]
  },
  {
   "cell_type": "code",
   "execution_count": null,
   "metadata": {},
   "outputs": [],
   "source": [
    "import random\n",
    "import math"
   ]
  },
  {
   "cell_type": "markdown",
   "metadata": {},
   "source": [
    "## Cars"
   ]
  },
  {
   "cell_type": "markdown",
   "metadata": {},
   "source": [
    "Lets say you are creating a racing game... You want to track each vehicle in the game, and have the ability to easily alter its speed. Create a class `Vehicle` with the variables `speed`, `model` and `max_speed` that implements the basic functions `speed_up` and `slow_down`.\n",
    "\n",
    "When a car speeds up, its speed increases by the specified amount. Vice versa for slowing down. A car's speed can never exceed its maximum speed."
   ]
  },
  {
   "cell_type": "code",
   "execution_count": 3,
   "metadata": {},
   "outputs": [],
   "source": [
    "class Vehicle:\n",
    "    \"\"\"Base Vehicle Class\"\"\"\n",
    "    \n",
    "    # to be able to initialize a class with specific parameters\n",
    "    # e.g. a different model for different instances of Vehicle\n",
    "    # we must have an __init__ method\n",
    "    def __init__(self, model, max_speed):\n",
    "        self.speed = 0\n",
    "        self.model = model\n",
    "        self.max_speed = max_speed\n",
    "        \n",
    "    def speed_up(self, speed_increase):\n",
    "        self.speed += speed_increase\n",
    "        # now, check for the max_speed constraint!\n",
    "\n",
    "    def slow_down(self, speed_decrease):\n",
    "        ..."
   ]
  },
  {
   "cell_type": "markdown",
   "metadata": {},
   "source": [
    "Now, we want to initialize our first car - a BMW. But since it is a car, it might be wise to create a `Car` class first. That way, whenever there are changes related to cars only, we can easily adjust that. \n",
    "\n",
    "Create a new class `Car` that inherits the `Vehicle` class."
   ]
  },
  {
   "cell_type": "code",
   "execution_count": 5,
   "metadata": {},
   "outputs": [],
   "source": [
    "class Car(Vehicle):\n",
    "    pass\n",
    "# we specify that exactly nothing will happen here - we don't change any Vehicle attributes\n",
    "# and we also don't add any new ones"
   ]
  },
  {
   "cell_type": "code",
   "execution_count": 13,
   "metadata": {},
   "outputs": [],
   "source": [
    "my_bmw = Car(\"BMW\", 500)\n",
    "\n",
    "# we can check my_bmw's current speed like this\n",
    "my_bmw.speed\n",
    "\n",
    "# and we can speed him up like that\n",
    "my_bmw.speed_up(100)\n",
    "my_bmw.speed\n",
    "\n",
    "# note 1) that Car did indeed inherit the Vehicle class attributes\n",
    "\n",
    "# note 2) that we do not have to define the new speed via assignment (=) in the global namespace (here)\n",
    "# because in the Vehicle class, speed is a class attribute ... which we can see by noting the `self`"
   ]
  },
  {
   "cell_type": "markdown",
   "metadata": {},
   "source": [
    "Buses will also be part of the game. Since they are different from cars, we could choose to create a new class once again, and again use the basic `Vehicle` class attributes. \n",
    "\n",
    "The difference we want to specify here is that buses **cannot** reverse, i.e. their minimum speed will always be $0$."
   ]
  },
  {
   "cell_type": "code",
   "execution_count": null,
   "metadata": {},
   "outputs": [],
   "source": [
    "class Bus(Vehicle):\n",
    "    def slow_down(self, speed_increase):\n",
    "        ..."
   ]
  },
  {
   "cell_type": "code",
   "execution_count": null,
   "metadata": {},
   "outputs": [],
   "source": [
    "my_bus = Bus(\"Cool Bus\", 100)\n",
    "\n",
    "# now, make the bus go 120 kmH\n",
    "...\n",
    "\n",
    "# stop the bus\n",
    "..."
   ]
  },
  {
   "cell_type": "markdown",
   "metadata": {},
   "source": [
    "Next, we want to implement one more sub-vehicle class: The bicycle. Its main features are that it\n",
    "\n",
    "- cannot reverse, i.e. minimum speed of $0$\n",
    "- has a maximum speed of $30$, a global speed limits for all bikes (but individual bikes might have maximum speed lower than that)\n",
    "- has a new function `show_status` that will print `\"The bike is {name} and its speed is {speed}\"`"
   ]
  },
  {
   "cell_type": "code",
   "execution_count": null,
   "metadata": {},
   "outputs": [],
   "source": [
    "class Bike..."
   ]
  },
  {
   "cell_type": "markdown",
   "metadata": {},
   "source": [
    "## Other"
   ]
  },
  {
   "cell_type": "markdown",
   "metadata": {},
   "source": [
    "Define a class `Rectangle` that can be constructed by its length and width. Add a method to compute its area."
   ]
  },
  {
   "cell_type": "code",
   "execution_count": 39,
   "metadata": {},
   "outputs": [],
   "source": [
    "class Rectangle:\n",
    "    \"\"\"Rectancle Class\"\"\"\n",
    "    \n",
    "    def __init__(self, length, width):\n",
    "        self.length = length # we make length and width class attributes\n",
    "        self.width = width # they will be accessible anywhere in the class\n",
    "        self.area = 0\n",
    "        self.update_area()\n",
    "        \n",
    "    def update_area(self):\n",
    "        ..."
   ]
  },
  {
   "cell_type": "code",
   "execution_count": null,
   "metadata": {},
   "outputs": [],
   "source": [
    "a = Rectangle(10,10)\n",
    "a.area"
   ]
  },
  {
   "cell_type": "markdown",
   "metadata": {},
   "source": [
    "Define a class `Circle` that can be constructed with a given radius. Add a method to compute the circle's area ($\\pi r^2$) "
   ]
  },
  {
   "cell_type": "code",
   "execution_count": null,
   "metadata": {},
   "outputs": [],
   "source": [
    "class Circle... # hint: math.pi for pi "
   ]
  },
  {
   "cell_type": "markdown",
   "metadata": {},
   "source": [
    "## Building A Casino\n",
    "\n",
    "We want to build a casino - but first we need to create some games.\n",
    "\n",
    "\n",
    "Use the code below to complete the basic Roulette game:\n",
    "\n",
    "- there are 36 pockets and each game the ball could land on either of them.\n",
    "- in case the player bets on the right pocket, the payout is his stake times 35. \n",
    "- otherwise, he loses his stake. "
   ]
  },
  {
   "cell_type": "code",
   "execution_count": null,
   "metadata": {},
   "outputs": [],
   "source": [
    "class Roulette:\n",
    "    def __init__(self):\n",
    "        self.pockets = list(range(1, 37)) # pockets [1, 36] - all options for the ball to land on\n",
    "        self.ball = None\n",
    "        self.pocket_odds = len(self.pockets) - 1 # payout is 35 * stake\n",
    "        \n",
    "    def spin(self):\n",
    "        self.ball = ... # the ball lands on a random pocket\n",
    "        \n",
    "    def bet_pocket(self, pocket, money):\n",
    "        self.spin() # spinning must happen every time the player places a bet!\n",
    "        if ...  # check if the result (where the ball landed) is what the player was betting on"
   ]
  },
  {
   "cell_type": "markdown",
   "metadata": {},
   "source": [
    "In European Casinos the game is played a little different! Instead of 36 pockets, a 0th pocket is added, making it 37. The payout is not changed.\n",
    "\n",
    "Create a new class, **`EuRoulette`**, that inherits from our `Roulette` class, but implements this change."
   ]
  },
  {
   "cell_type": "code",
   "execution_count": null,
   "metadata": {},
   "outputs": [],
   "source": [
    "class EuRoulette..."
   ]
  },
  {
   "cell_type": "markdown",
   "metadata": {},
   "source": [
    "Now we want to add our game to a casino, like in the code below."
   ]
  },
  {
   "cell_type": "code",
   "execution_count": 26,
   "metadata": {},
   "outputs": [],
   "source": [
    "class Casino:\n",
    "    def __init__(self):\n",
    "        self.Roulette = EuRoulette()       "
   ]
  },
  {
   "cell_type": "code",
   "execution_count": 27,
   "metadata": {},
   "outputs": [],
   "source": [
    "Casino = Casino()\n",
    "Casino.Roulette.bet_pocket(...)"
   ]
  },
  {
   "cell_type": "markdown",
   "metadata": {},
   "source": [
    "How would you go about adding your Rock Paper Scissors game to the Casino?\n",
    "\n",
    "Hint: First create a class to wrap around your game functions."
   ]
  },
  {
   "cell_type": "code",
   "execution_count": null,
   "metadata": {},
   "outputs": [],
   "source": [
    "class RockPaperScissors:\n",
    "    ..."
   ]
  },
  {
   "cell_type": "markdown",
   "metadata": {},
   "source": [
    "## GUI Programming\n",
    "\n",
    "Using classes, we can easily use some frameworks made for GUI programming. Probably the most popular one is Qt5, in Python available with the PyQt5 Wrapper. It was used in the creation of e.g. Rstudio, Spyder (with PyQt5!) and Spotify. \n",
    "\n",
    "Study the example below.. \n",
    "\n",
    "Then alter the code to include three Line-Edit widgets.\n",
    "Two for entering numbers, and one for displaying the sum of them both (once the button is clicked)."
   ]
  },
  {
   "cell_type": "code",
   "execution_count": 1,
   "metadata": {
    "scrolled": true
   },
   "outputs": [
    {
     "ename": "SystemExit",
     "evalue": "0",
     "output_type": "error",
     "traceback": [
      "An exception has occurred, use %tb to see the full traceback.\n",
      "\u001b[1;31mSystemExit\u001b[0m\u001b[1;31m:\u001b[0m 0\n"
     ]
    },
    {
     "name": "stderr",
     "output_type": "stream",
     "text": [
      "C:\\Program Files\\Anaconda3\\envs\\python36\\lib\\site-packages\\IPython\\core\\interactiveshell.py:2870: UserWarning: To exit: use 'exit', 'quit', or Ctrl-D.\n",
      "  warn(\"To exit: use 'exit', 'quit', or Ctrl-D.\", stacklevel=1)\n"
     ]
    }
   ],
   "source": [
    "import sys\n",
    "from PyQt5 import QtCore, QtWidgets\n",
    " \n",
    "class Window(QtWidgets.QWidget):\n",
    "    def __init__(self):\n",
    "        super().__init__() #this initializes the parent class\n",
    "        \n",
    "        self.setWindowTitle(\"My Window\")\n",
    "        self.setGeometry(100, 100, 500, 500) # you can try some other values to see what it does\n",
    "        \n",
    "        # create a line-edit (i.e., text input) object\n",
    "        self.my_textbox = QtWidgets.QLineEdit(self) \n",
    "        \n",
    "        # create a pushbutton with specific label\n",
    "        my_first_button = QtWidgets.QPushButton(\"CAPITALIZE THIS\") \n",
    "        # connect the button to a specific function whenever it is pressed\n",
    "        my_first_button.clicked.connect(self.my_button_function) \n",
    "        \n",
    "        # add line edit and button to a vbox layout\n",
    "        # that means they will be arranged vertically, top to bottom\n",
    "        my_layout = QtWidgets.QVBoxLayout()\n",
    "        my_layout.addWidget(self.my_textbox)\n",
    "        my_layout.addWidget(my_first_button)\n",
    "        \n",
    "        # set the layout as the \"official\" layout of this widget\n",
    "        # -> the widget will display exactly what is specified in that layout\n",
    "        self.setLayout(my_layout)\n",
    "        \n",
    "    # this function will be activated whenever the button is clicked \n",
    "    def my_button_function(self):\n",
    "        # setText() is a function that takes as input a text\n",
    "        # and puts exactly that text into the line-edit widget\n",
    "        \n",
    "        # text() is a function that retrieves the text currently in the line-edit widget\n",
    "        \n",
    "        # upper() is a function that converts strings to uppercase \n",
    "        # (we have seen lower() already)\n",
    "        self.my_textbox.setText(self.my_textbox.text().upper())\n",
    "        \n",
    "# you don't have to know about this part\n",
    "# it launches the gui so that it will be displayed\n",
    "if __name__ == \"__main__\":\n",
    "    app = QtCore.QCoreApplication.instance()\n",
    "    if app is None:\n",
    "        app = QtWidgets.QApplication(sys.argv)\n",
    "    ex = Window()\n",
    "    ex.show()\n",
    "    sys.exit(app.exec_())"
   ]
  },
  {
   "cell_type": "markdown",
   "metadata": {},
   "source": [
    "## Other (Optional)\n",
    "\n",
    "Write a class `Multiples` with attributes `x` and `y` and one function `gcd` that returns the greatest common denominator of `x` and `y`. You might want to read up on the [Euclidean Algorithm](https://en.wikipedia.org/wiki/Euclidean_algorithm#Background:_greatest_common_divisor)."
   ]
  },
  {
   "cell_type": "code",
   "execution_count": null,
   "metadata": {},
   "outputs": [],
   "source": [
    "class Multiples..."
   ]
  }
 ],
 "metadata": {
  "kernelspec": {
   "display_name": "Python [conda env:python36]",
   "language": "python",
   "name": "conda-env-python36-py"
  },
  "language_info": {
   "codemirror_mode": {
    "name": "ipython",
    "version": 3
   },
   "file_extension": ".py",
   "mimetype": "text/x-python",
   "name": "python",
   "nbconvert_exporter": "python",
   "pygments_lexer": "ipython3",
   "version": "3.6.3"
  }
 },
 "nbformat": 4,
 "nbformat_minor": 2
}
